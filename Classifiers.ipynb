{
  "nbformat": 4,
  "nbformat_minor": 0,
  "metadata": {
    "colab": {
      "provenance": []
    },
    "kernelspec": {
      "name": "python3",
      "display_name": "Python 3"
    }
  },
  "cells": [
    {
      "cell_type": "code",
      "source": [
        "import numpy as np\n",
        "import matplotlib.pyplot as plt\n",
        "from sklearn import datasets, model_selection, tree, naive_bayes, neural_network, neighbors\n",
        "from sklearn.metrics import confusion_matrix, accuracy_score\n",
        "from sklearn.tree import export_text"
      ],
      "metadata": {
        "id": "60_lGpeRn1G3"
      },
      "execution_count": null,
      "outputs": []
    },
    {
      "cell_type": "code",
      "source": [
        "#carregando o datasets de digitos\n",
        "digits = datasets.load_digits()\n",
        "X, y = digits.data, digits.target"
      ],
      "metadata": {
        "id": "ZhRwqH_5n3wQ"
      },
      "execution_count": null,
      "outputs": []
    },
    {
      "cell_type": "code",
      "source": [
        "def print_tree_structure(clf, feature_names):\n",
        "    print(export_text(clf, feature_names=feature_names))"
      ],
      "metadata": {
        "id": "T0PCL6zOoGDP"
      },
      "execution_count": null,
      "outputs": []
    },
    {
      "cell_type": "code",
      "source": [
        "X_train, X_test, y_train, y_test = model_selection.train_test_split(X, y, test_size=0.3, random_state=42, stratify=y)\n",
        "#seleciona 30% dos dados (70/30) * STRATIFY MANTEM A MESMA PROPORCAO"
      ],
      "metadata": {
        "id": "zEHLJi49oIp-"
      },
      "execution_count": null,
      "outputs": []
    },
    {
      "cell_type": "code",
      "source": [
        "# 1. Decision Tree\n",
        "dt_clf = tree.DecisionTreeClassifier(criterion='entropy', max_depth=2)\n",
        "# train with holdout\n",
        "dt_clf.fit(X_train, y_train)\n",
        "y_pred_dt_holdout = dt_clf.predict(X_test)\n",
        "score_dt_holdout = accuracy_score(y_test, y_pred_dt_holdout) ## tx de acerto (score do exemplo)\n",
        "matrix = confusion_matrix(y_test, y_pred_dt_holdout)"
      ],
      "metadata": {
        "id": "pvRgWx4RsSF_"
      },
      "execution_count": null,
      "outputs": []
    },
    {
      "cell_type": "code",
      "source": [
        "##validação cruzada, 10 particoes\n",
        "cv_results_dt = model_selection.cross_val_score(dt_clf, X, y, cv=10)\n",
        "y_pred_dt_cv = model_selection.cross_val_predict(dt_clf, X, y, cv=10)\n",
        "confusion_dt_cv = confusion_matrix(y, y_pred_dt_cv)"
      ],
      "metadata": {
        "id": "mtFjBI1NtaMH"
      },
      "execution_count": null,
      "outputs": []
    },
    {
      "cell_type": "code",
      "source": [
        "print(\"Decision Tree:\")\n",
        "print(\"Holdout ''Score'': {:.2f}\".format(score_dt_holdout))\n",
        "print(\"Matriz de confusao:\\n\", matrix)\n",
        "print(\"Validacao Cruzada: {:.2f}\".format(cv_results_dt.mean()))\n",
        "print(\"Matriz de confusao (CV):\\n\", confusion_dt_cv)"
      ],
      "metadata": {
        "colab": {
          "base_uri": "https://localhost:8080/"
        },
        "id": "2-rtfiyVtp_q",
        "outputId": "5531524f-74cb-4349-eed9-b345bd1e9e6e"
      },
      "execution_count": null,
      "outputs": [
        {
          "output_type": "stream",
          "name": "stdout",
          "text": [
            "Decision Tree:\n",
            "Holdout ''Score'': 0.36\n",
            "Matriz de confusao:\n",
            " [[48  0  4  0  2  0  0  0  0  0]\n",
            " [ 0  0 33  0 11  0  0  0  0 11]\n",
            " [ 0  0 51  0  2  0  0  0  0  0]\n",
            " [ 0  0  6  0  0  0  0  0  0 49]\n",
            " [ 1  0  3  0 50  0  0  0  0  0]\n",
            " [ 1  0  7  0 16  0  0  0  0 31]\n",
            " [ 0  0 19  0 35  0  0  0  0  0]\n",
            " [ 0  0 39  0 14  0  0  0  0  1]\n",
            " [ 1  0 42  0  3  0  0  0  0  6]\n",
            " [ 0  0  9  0  1  0  0  0  0 44]]\n",
            "Validacao Cruzada: 0.34\n",
            "Matriz de confusao (CV):\n",
            " [[167   0   4   0   0   0   2   0   1   4]\n",
            " [  0   0  40  18  16   9  34  19  18  28]\n",
            " [  3   0  65  33   1   7  25  25  10   8]\n",
            " [  6   0   8  63   0  12   2  10   1  81]\n",
            " [ 37   0  10   0  47  10  42  23   3   9]\n",
            " [ 13   0  26   9  14  57   1   4   2  56]\n",
            " [ 38   0  27   1  28   0  67   2  18   0]\n",
            " [ 23   0  57  31  18   4  16  27   3   0]\n",
            " [  3   0  55   6   4  14  34  22  33   3]\n",
            " [  4   0  10  23   7  40   0  14   1  81]]\n"
          ]
        }
      ]
    },
    {
      "cell_type": "code",
      "source": [
        "#Naive Bayes\n",
        "classificador_nb = naive_bayes.GaussianNB()\n",
        "classificador_nb.fit(X_train, y_train)\n",
        "y_pred_nb_holdout = classificador_nb.predict(X_test)\n",
        "taxa_acerto_nb_holdout = accuracy_score(y_test, y_pred_nb_holdout)\n",
        "matriz_confusao_nb_holdout = confusion_matrix(y_test, y_pred_nb_holdout)"
      ],
      "metadata": {
        "id": "ffV4wiaKuvg8"
      },
      "execution_count": null,
      "outputs": []
    },
    {
      "cell_type": "code",
      "source": [
        "#validação cruzada com 10particoes\n",
        "resultados_cv_nb = model_selection.cross_val_score(classificador_nb, X, y, cv=10)\n",
        "y_pred_nb_cv = model_selection.cross_val_predict(classificador_nb, X, y, cv=10)\n",
        "matriz_confusao_nb_cv = confusion_matrix(y, y_pred_nb_cv)"
      ],
      "metadata": {
        "id": "RwSEv0ZpvPSC"
      },
      "execution_count": null,
      "outputs": []
    },
    {
      "cell_type": "code",
      "source": [
        "print(\"Naive Bayes:\")\n",
        "print(\"Holdout ''Score'': {:.2f}\".format(taxa_acerto_nb_holdout))\n",
        "print(\"Matriz de confusao:\\n\", matriz_confusao_nb_holdout)\n",
        "print(\"Validacao Cruzada: {:.2f}\".format(resultados_cv_nb.mean()))\n",
        "print(\"Matriz de confusao (CV):\\n\", matriz_confusao_nb_cv)"
      ],
      "metadata": {
        "colab": {
          "base_uri": "https://localhost:8080/"
        },
        "id": "eLnCgBttvX9s",
        "outputId": "66ab5f5a-4435-436b-b1ec-319d8e76b1ab"
      },
      "execution_count": null,
      "outputs": [
        {
          "output_type": "stream",
          "name": "stdout",
          "text": [
            "Naive Bayes:\n",
            "Holdout ''Score'': 0.82\n",
            "Matriz de confusao:\n",
            " [[49  1  0  0  3  1  0  0  0  0]\n",
            " [ 0 46  2  0  0  0  1  0  6  0]\n",
            " [ 0  7 34  0  1  0  0  0 11  0]\n",
            " [ 0  2  1 37  0  1  0  2 11  1]\n",
            " [ 0  1  0  0 45  0  1  5  2  0]\n",
            " [ 0  1  0  0  0 50  0  2  0  2]\n",
            " [ 0  1  0  0  0  0 53  0  0  0]\n",
            " [ 0  0  0  0  0  1  0 53  0  0]\n",
            " [ 0 11  1  0  0  1  0  1 38  0]\n",
            " [ 0  4  1  0  0  0  0  6  4 39]]\n",
            "Validacao Cruzada: 0.81\n",
            "Matriz de confusao (CV):\n",
            " [[174   0   0   0   2   0   0   1   0   1]\n",
            " [  0 141   3   0   1   0   6   5  17   9]\n",
            " [  0  10 112   0   1   2   1   0  51   0]\n",
            " [  0   2   4 131   0   8   0   8  25   5]\n",
            " [  1   2   1   0 147   1   2  25   2   0]\n",
            " [  0   2   0   3   1 160   1   9   3   3]\n",
            " [  0   1   1   0   1   3 175   0   0   0]\n",
            " [  0   0   1   0   1   1   0 174   1   1]\n",
            " [  0  25   2   1   0   3   0  11 130   2]\n",
            " [  1  11   0   7   2   4   1  17  23 114]]\n"
          ]
        }
      ]
    },
    {
      "cell_type": "code",
      "source": [
        "#rede MLP\n",
        "rede_mlp = neural_network.MLPClassifier(max_iter=1000, random_state=42)\n",
        "rede_mlp.fit(X_train, y_train)\n",
        "y_pred_mlp_holdout = rede_mlp.predict(X_test)\n",
        "taxa_acerto_mlp_holdout = accuracy_score(y_test, y_pred_mlp_holdout)\n",
        "matriz_confusao_mlp_holdout = confusion_matrix(y_test, y_pred_mlp_holdout)"
      ],
      "metadata": {
        "id": "GO_SsZs-v74X"
      },
      "execution_count": null,
      "outputs": []
    },
    {
      "cell_type": "code",
      "source": [
        "resultados_cv_mlp = model_selection.cross_val_score(rede_mlp, X, y, cv=10)\n",
        "y_pred_mlp_cv = model_selection.cross_val_predict(rede_mlp, X, y, cv=10)\n",
        "matriz_confusao_mlp_cv = confusion_matrix(y, y_pred_mlp_cv)"
      ],
      "metadata": {
        "id": "JXS3ByX0v_Fv"
      },
      "execution_count": null,
      "outputs": []
    },
    {
      "cell_type": "code",
      "source": [
        "print(\"Rede MLP:\")\n",
        "print(\"Holdout ''Score'': {:.2f}\".format(taxa_acerto_mlp_holdout))\n",
        "print(\"Matriz de confusao:\\n\", matriz_confusao_mlp_holdout)\n",
        "print(\"Validacao Cruzada: {:.2f}\".format(resultados_cv_mlp.mean()))\n",
        "print(\"Matriz de confusao (CV):\\n\", matriz_confusao_mlp_cv)"
      ],
      "metadata": {
        "colab": {
          "base_uri": "https://localhost:8080/"
        },
        "id": "J4Wh4VLOwTJ7",
        "outputId": "e82d1107-5e76-47f5-cfb2-26595109fe90"
      },
      "execution_count": null,
      "outputs": [
        {
          "output_type": "stream",
          "name": "stdout",
          "text": [
            "Rede MLP:\n",
            "Holdout ''Score'': 0.98\n",
            "Matriz de confusao:\n",
            " [[51  0  1  0  2  0  0  0  0  0]\n",
            " [ 0 55  0  0  0  0  0  0  0  0]\n",
            " [ 0  0 53  0  0  0  0  0  0  0]\n",
            " [ 0  0  0 55  0  0  0  0  0  0]\n",
            " [ 0  0  0  0 52  0  0  2  0  0]\n",
            " [ 0  0  0  0  0 54  0  0  0  1]\n",
            " [ 0  0  0  0  0  0 53  0  1  0]\n",
            " [ 0  0  0  0  1  0  0 53  0  0]\n",
            " [ 0  3  1  0  0  1  0  0 47  0]\n",
            " [ 0  0  0  0  0  0  0  0  0 54]]\n",
            "Validacao Cruzada: 0.95\n",
            "Matriz de confusao (CV):\n",
            " [[175   0   1   0   1   0   1   0   0   0]\n",
            " [  0 175   0   0   0   0   4   0   1   2]\n",
            " [  0   5 171   0   0   0   0   0   1   0]\n",
            " [  0   0   2 165   0   5   0   1   6   4]\n",
            " [  1   1   0   0 174   0   1   1   0   3]\n",
            " [  0   0   0   1   0 169   1   1   1   9]\n",
            " [  3   0   0   0   0   0 177   0   1   0]\n",
            " [  0   0   0   0   5   0   0 164   0  10]\n",
            " [  1  10   0   0   1   2   1   1 158   0]\n",
            " [  0   1   0   0   0   2   0   0   2 175]]\n"
          ]
        }
      ]
    },
    {
      "cell_type": "code",
      "source": [
        "#kNN\n",
        "knn = neighbors.KNeighborsClassifier(n_neighbors=5) # k=5\n",
        "knn.fit(X_train, y_train)\n",
        "y_pred_knn_holdout = knn.predict(X_test)\n",
        "taxa_acerto_knn_holdout = accuracy_score(y_test, y_pred_knn_holdout)\n",
        "matriz_confusao_knn_holdout = confusion_matrix(y_test, y_pred_knn_holdout)"
      ],
      "metadata": {
        "id": "kka5ZtFrw6yK"
      },
      "execution_count": null,
      "outputs": []
    },
    {
      "cell_type": "code",
      "source": [
        "resultados_cv_knn = model_selection.cross_val_score(knn, X, y, cv=10)\n",
        "y_pred_knn_cv = model_selection.cross_val_predict(knn, X, y, cv=10)\n",
        "matriz_confusao_knn_cv = confusion_matrix(y, y_pred_knn_cv)"
      ],
      "metadata": {
        "id": "p1repV8fw-Ux"
      },
      "execution_count": null,
      "outputs": []
    },
    {
      "cell_type": "code",
      "source": [
        "print(\"kNN:\")\n",
        "print(\"Holdout ''Score'': {:.2f}\".format(taxa_acerto_knn_holdout))\n",
        "print(\"Matriz de confusao:\\n\", matriz_confusao_knn_holdout)\n",
        "print(\"Validacao Cruzada: {:.2f}\".format(resultados_cv_knn.mean()))\n",
        "print(\"Matriz de confusao (CV):\\n\", matriz_confusao_knn_cv)"
      ],
      "metadata": {
        "colab": {
          "base_uri": "https://localhost:8080/"
        },
        "id": "hralpwXQxPr5",
        "outputId": "03245aec-ee05-4bd2-851d-716a3202c30c"
      },
      "execution_count": null,
      "outputs": [
        {
          "output_type": "stream",
          "name": "stdout",
          "text": [
            "kNN:\n",
            "Holdout ''Score'': 0.99\n",
            "Matriz de confusao:\n",
            " [[54  0  0  0  0  0  0  0  0  0]\n",
            " [ 0 55  0  0  0  0  0  0  0  0]\n",
            " [ 0  0 53  0  0  0  0  0  0  0]\n",
            " [ 0  0  0 55  0  0  0  0  0  0]\n",
            " [ 0  0  0  0 54  0  0  0  0  0]\n",
            " [ 0  0  0  0  0 54  0  0  0  1]\n",
            " [ 0  0  0  0  0  0 54  0  0  0]\n",
            " [ 0  0  0  0  0  0  0 54  0  0]\n",
            " [ 0  2  0  1  0  0  0  1 48  0]\n",
            " [ 0  0  0  0  1  0  0  0  1 52]]\n",
            "Validacao Cruzada: 0.97\n",
            "Matriz de confusao (CV):\n",
            " [[178   0   0   0   0   0   0   0   0   0]\n",
            " [  0 181   0   0   0   0   1   0   0   0]\n",
            " [  0   3 170   0   0   0   0   1   3   0]\n",
            " [  0   0   1 175   0   1   0   2   2   2]\n",
            " [  0   1   0   0 178   0   0   2   0   0]\n",
            " [  0   0   0   0   0 177   1   0   0   4]\n",
            " [  0   1   0   0   0   1 179   0   0   0]\n",
            " [  0   0   0   0   0   0   0 176   0   3]\n",
            " [  0  10   1   1   0   0   0   1 161   0]\n",
            " [  0   2   0   4   1   1   0   1   1 170]]\n"
          ]
        }
      ]
    },
    {
      "cell_type": "code",
      "source": [
        "#arvore de Decisao treinada com todos os dados\n",
        "classificador_arvore = tree.DecisionTreeClassifier(criterion='entropy', max_depth=3)\n",
        "classificador_arvore.fit(X, y)\n",
        "print(\"estrutura da arvore de decisao:\")\n",
        "print_tree_structure(classificador_arvore, feature_names=[str(i) for i in range(X.shape[1])])"
      ],
      "metadata": {
        "colab": {
          "base_uri": "https://localhost:8080/"
        },
        "id": "ReQw9N4woBVR",
        "outputId": "2c979dd4-8756-429b-a676-543337b4ff08"
      },
      "execution_count": null,
      "outputs": [
        {
          "output_type": "stream",
          "name": "stdout",
          "text": [
            "estrutura da arvore de decisao:\n",
            "|--- 42 <= 7.50\n",
            "|   |--- 26 <= 8.50\n",
            "|   |   |--- 43 <= 2.50\n",
            "|   |   |   |--- class: 3\n",
            "|   |   |--- 43 >  2.50\n",
            "|   |   |   |--- class: 2\n",
            "|   |--- 26 >  8.50\n",
            "|   |   |--- 21 <= 3.50\n",
            "|   |   |   |--- class: 5\n",
            "|   |   |--- 21 >  3.50\n",
            "|   |   |   |--- class: 9\n",
            "|--- 42 >  7.50\n",
            "|   |--- 36 <= 0.50\n",
            "|   |   |--- 21 <= 0.50\n",
            "|   |   |   |--- class: 4\n",
            "|   |   |--- 21 >  0.50\n",
            "|   |   |   |--- class: 0\n",
            "|   |--- 36 >  0.50\n",
            "|   |   |--- 54 <= 1.50\n",
            "|   |   |   |--- class: 4\n",
            "|   |   |--- 54 >  1.50\n",
            "|   |   |   |--- class: 6\n",
            "\n"
          ]
        }
      ]
    },
    {
      "cell_type": "code",
      "source": [],
      "metadata": {
        "id": "LEHcl1fzxcrB"
      },
      "execution_count": null,
      "outputs": []
    }
  ]
}
